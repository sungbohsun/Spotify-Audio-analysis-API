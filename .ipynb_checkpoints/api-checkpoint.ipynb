{
 "cells": [
  {
   "cell_type": "code",
   "execution_count": 1,
   "metadata": {},
   "outputs": [],
   "source": [
    "import requests\n",
    "import datetime\n",
    "from urllib.parse import urlencode\n",
    "import base64\n",
    "\n",
    "class SpotifyAPI(object):\n",
    "    access_token = None\n",
    "    access_token_expires = datetime.datetime.now()\n",
    "    access_token_did_expire = True\n",
    "    client_id = None\n",
    "    client_secret = None\n",
    "    token_url = \"https://accounts.spotify.com/api/token\"\n",
    "    \n",
    "    def __init__(self, client_id, client_secret, *args, **kwargs):\n",
    "        super().__init__(*args, **kwargs)\n",
    "        self.client_id = client_id\n",
    "        self.client_secret = client_secret\n",
    "\n",
    "    def get_client_credentials(self):\n",
    "        \"\"\"\n",
    "        Returns a base64 encoded string\n",
    "        \"\"\"\n",
    "        client_id = self.client_id\n",
    "        client_secret = self.client_secret\n",
    "        if client_secret == None or client_id == None:\n",
    "            raise Exception(\"You must set client_id and client_secret\")\n",
    "        client_creds = f\"{client_id}:{client_secret}\"\n",
    "        client_creds_b64 = base64.b64encode(client_creds.encode())\n",
    "        return client_creds_b64.decode()\n",
    "    \n",
    "    def get_token_headers(self):\n",
    "        client_creds_b64 = self.get_client_credentials()\n",
    "        return {\n",
    "            \"Authorization\": f\"Basic {client_creds_b64}\"\n",
    "        }\n",
    "    \n",
    "    def get_token_data(self):\n",
    "        return {\n",
    "            \"grant_type\": \"client_credentials\"\n",
    "        } \n",
    "    \n",
    "    def perform_auth(self):\n",
    "        token_url = self.token_url\n",
    "        token_data = self.get_token_data()\n",
    "        token_headers = self.get_token_headers()\n",
    "        r = requests.post(token_url, data=token_data, headers=token_headers)\n",
    "        if r.status_code not in range(200, 299):\n",
    "            return False\n",
    "        data = r.json()\n",
    "        now = datetime.datetime.now()\n",
    "        access_token = data['access_token']\n",
    "        expires_in = data['expires_in'] # seconds\n",
    "        expires = now + datetime.timedelta(seconds=expires_in)\n",
    "        self.access_token = access_token\n",
    "        self.access_token_expires = expires\n",
    "        self.access_token_did_expire = expires < now\n",
    "        return True"
   ]
  },
  {
   "cell_type": "code",
   "execution_count": 2,
   "metadata": {},
   "outputs": [],
   "source": [
    "# to get id and secret in spotify development dashboard\n",
    "client_id = '7b53768ec42646b08540bc929483ef5e'\n",
    "client_secret = 'ca356e9b3e6f4216af17442bbbd48b0d'"
   ]
  },
  {
   "cell_type": "code",
   "execution_count": 3,
   "metadata": {},
   "outputs": [
    {
     "data": {
      "text/plain": [
       "'BQAOarOPVTIkBi0BKKubAoGmkrh8R2HQPCN44tQ-WKQZHYaSw9U6XbtOImRIS40MGSMwZKFYzmw0hNjlqoE'"
      ]
     },
     "execution_count": 3,
     "metadata": {},
     "output_type": "execute_result"
    }
   ],
   "source": [
    "spotify = SpotifyAPI(client_id, client_secret)\n",
    "spotify.perform_auth()\n",
    "access_token = spotify.access_token\n",
    "access_token"
   ]
  },
  {
   "cell_type": "code",
   "execution_count": 4,
   "metadata": {},
   "outputs": [],
   "source": [
    "def current_song():\n",
    "        spotify = SpotifyAPI(client_id, client_secret)\n",
    "        spotify.perform_auth()\n",
    "\n",
    "        # need get access_token in \n",
    "        # https://developer.spotify.com/documentation/web-api/reference/player/get-the-users-currently-playing-track/\n",
    "        access_token = 'BQAFpTDQ7drVqFFIXD7XyC1roBaDsnhVyrS0G7Mp5wS9XjEYfudzlma3ZZqtRyqEZj62335zEF1rjuKSp2RSYwysCFHWsCiAw4AwORof6IGNMOxY2HHSp8iKaJYeOuFYbjV047HBLH9BqcLok0CnhLfYSoDgow'\n",
    "        headers = {\n",
    "            \"Authorization\": f\"Bearer {access_token}\"\n",
    "        }\n",
    "\n",
    "        endpoint = \"https://api.spotify.com/v1/me/player?market=TW&additional_types=episode\"\n",
    "        r = requests.get(endpoint, headers=headers)\n",
    "        print(r.status_code,'in step one')\n",
    "        tmp = r.json()\n",
    "        track_id = tmp['item']['uri'].split(':')[2]\n",
    "        singer = tmp['item']['artists'][0]['name']\n",
    "        song_name = tmp['item']['name']\n",
    "        return singer,song_name,track_id"
   ]
  },
  {
   "cell_type": "code",
   "execution_count": 5,
   "metadata": {},
   "outputs": [],
   "source": [
    "def search_id(singer,song_name):\n",
    "    #set up\n",
    "    spotify = SpotifyAPI(client_id, client_secret)\n",
    "    spotify.perform_auth()\n",
    "    access_token = spotify.access_token\n",
    "    headers = {\n",
    "        \"Authorization\": f\"Bearer {access_token}\"\n",
    "    }\n",
    "\n",
    "    endpoint = \"https://api.spotify.com/v1/search\"\n",
    "    data = urlencode({\"q\": song_name, \n",
    "                      \"artist\" : singer,\n",
    "                      \"type\": \"track\"})\n",
    "\n",
    "\n",
    "    lookup_url = f\"{endpoint}?{data}\"\n",
    "    r = requests.get(lookup_url, headers=headers)\n",
    "    print(r.status_code,'in step one')\n",
    "\n",
    "    if r.status_code != 200:\n",
    "        print('error in search song id')\n",
    "    else:\n",
    "        tmp = r.json()\n",
    "        track_id = tmp['tracks']['items'][0]['uri'].split(':')[2]\n",
    "    return track_id"
   ]
  },
  {
   "cell_type": "code",
   "execution_count": 6,
   "metadata": {},
   "outputs": [],
   "source": [
    "#Spotify Audio analysis\n",
    "import json\n",
    "def spo(singer,song_name,track_id):\n",
    "    \n",
    "    spotify = SpotifyAPI(client_id, client_secret)\n",
    "    spotify.perform_auth()\n",
    "    access_token = spotify.access_token\n",
    "    headers = {\n",
    "        \"Authorization\": f\"Bearer {access_token}\"\n",
    "    }\n",
    "\n",
    "    #get Audio analysis\n",
    "    endpoint = \" https://api.spotify.com/v1/audio-analysis/\"+track_id\n",
    "    lookup_url = f\"{endpoint}\"\n",
    "    r = requests.get(lookup_url, headers=headers)\n",
    "    result = r.json()\n",
    "    print(r.status_code,'in audio-analysis')\n",
    "    if r.status_code != 200:\n",
    "        print('error in get audio-analysis')\n",
    "\n",
    "    #save Audio analysis file as json\n",
    "    with open('audio-analysis_'+singer+'_'+song_name+'.json', 'w') as outfile:\n",
    "        json.dump(result, outfile)\n",
    "\n",
    "    print('success save','audio-analysis_'+singer+'_'+song_name+'.json')\n",
    "\n",
    "#     #get Audio features\n",
    "#     endpoint = \" https://api.spotify.com/v1/audio-features/\"+track_id\n",
    "#     lookup_url = f\"{endpoint}\"\n",
    "#     r = requests.get(lookup_url, headers=headers)\n",
    "#     result = r.json()\n",
    "#     print(r.status_code,'in get audio-features')\n",
    "#     if r.status_code != 200:\n",
    "#         print('error in get audio-features')\n",
    "\n",
    "#     #save file audio-features as json\n",
    "#     with open(\"audio-features_\"+singer+'_'+song_name+'.json', 'w') as outfile:\n",
    "#         json.dump(result, outfile)\n",
    "\n",
    "#     print('success save',\"audio-features_\"+singer+'_'+song_name+'.json')"
   ]
  },
  {
   "cell_type": "code",
   "execution_count": 7,
   "metadata": {},
   "outputs": [],
   "source": [
    "def playlist_songid(playlist_id):\n",
    "    \n",
    "    import pandas as pd\n",
    "    spotify = SpotifyAPI(client_id, client_secret)\n",
    "    spotify.perform_auth()\n",
    "    access_token = spotify.access_token\n",
    "    headers = {\n",
    "        \"Authorization\": f\"Bearer {access_token}\"\n",
    "    }\n",
    "\n",
    "    #get Audio analysis\n",
    "    endpoint = \" https://api.spotify.com/v1/playlists/\"+playlist_id+'?market=TW'\n",
    "    lookup_url = f\"{endpoint}\"\n",
    "    r = requests.get(lookup_url, headers=headers)\n",
    "    result = r.json()\n",
    "    print(r.status_code)\n",
    "    df = pd.DataFrame()\n",
    "    track_id , singer, song_name, duration = [], [], [], []\n",
    "    for i in range(len(result['tracks']['items'])):\n",
    "        track_id.append(result['tracks']['items'][i]['track']['uri'].split(':')[2])\n",
    "        singer.append(result['tracks']['items'][i]['track']['artists'][0]['name'])\n",
    "        song_name.append(result['tracks']['items'][i]['track']['name'])\n",
    "        duration.append(result['tracks']['items'][i]['track']['duration_ms'])\n",
    "    df['track_id'] = track_id\n",
    "    df['singer'] = singer\n",
    "    df['song_name'] = song_name\n",
    "    df['duration'] = duration\n",
    "    df.to_csv(result['name']+'.csv')\n",
    "    print('save playlist as',result['name']+'.csv')"
   ]
  },
  {
   "cell_type": "code",
   "execution_count": 8,
   "metadata": {},
   "outputs": [
    {
     "name": "stdout",
     "output_type": "stream",
     "text": [
      "200 in step one\n",
      "周杰倫 簡單愛 5Jtg0qcTKMHq3HjPVGRFAi\n"
     ]
    }
   ],
   "source": [
    "#search_id\n",
    "\n",
    "singer = '周杰倫'\n",
    "song_name = '簡單愛'\n",
    "track_id = search_id(singer,song_name)\n",
    "print(singer,song_name,track_id)"
   ]
  },
  {
   "cell_type": "code",
   "execution_count": 9,
   "metadata": {},
   "outputs": [
    {
     "name": "stdout",
     "output_type": "stream",
     "text": [
      "200 in audio-analysis\n",
      "success save audio-analysis_周杰倫_簡單愛.json\n"
     ]
    }
   ],
   "source": [
    "#Spotify Audio analysis\n",
    "\n",
    "spo(singer,song_name,track_id)"
   ]
  },
  {
   "cell_type": "code",
   "execution_count": 12,
   "metadata": {},
   "outputs": [
    {
     "name": "stdout",
     "output_type": "stream",
     "text": [
      "200 in step one\n",
      "Mayday 私奔到月球 0WzdHebEnoKHlTxq5x2e67\n"
     ]
    }
   ],
   "source": [
    "#current_song\n",
    "\n",
    "singer,song_name,track_id = current_song()\n",
    "print(singer,song_name,track_id)"
   ]
  },
  {
   "cell_type": "code",
   "execution_count": 13,
   "metadata": {},
   "outputs": [
    {
     "name": "stdout",
     "output_type": "stream",
     "text": [
      "200 in audio-analysis\n",
      "success save audio-analysis_Mayday_私奔到月球.json\n"
     ]
    }
   ],
   "source": [
    "#Spotify Audio analysis\n",
    "\n",
    "spo(singer,song_name,track_id)"
   ]
  },
  {
   "cell_type": "code",
   "execution_count": 14,
   "metadata": {},
   "outputs": [
    {
     "name": "stdout",
     "output_type": "stream",
     "text": [
      "200\n",
      "save playlist as Peaceful Piano.csv\n"
     ]
    }
   ],
   "source": [
    "playlist_songid('37i9dQZF1DX4sWSpwq3LiO')"
   ]
  },
  {
   "cell_type": "code",
   "execution_count": null,
   "metadata": {},
   "outputs": [],
   "source": [
    "spotify:playlist:37i9dQZF1DX4sWSpwq3LiO"
   ]
  },
  {
   "cell_type": "code",
   "execution_count": null,
   "metadata": {},
   "outputs": [],
   "source": []
  },
  {
   "cell_type": "code",
   "execution_count": null,
   "metadata": {},
   "outputs": [],
   "source": []
  },
  {
   "cell_type": "code",
   "execution_count": null,
   "metadata": {},
   "outputs": [],
   "source": []
  }
 ],
 "metadata": {
  "kernelspec": {
   "display_name": "Python 3",
   "language": "python",
   "name": "python3"
  },
  "language_info": {
   "codemirror_mode": {
    "name": "ipython",
    "version": 3
   },
   "file_extension": ".py",
   "mimetype": "text/x-python",
   "name": "python",
   "nbconvert_exporter": "python",
   "pygments_lexer": "ipython3",
   "version": "3.6.12"
  }
 },
 "nbformat": 4,
 "nbformat_minor": 4
}
