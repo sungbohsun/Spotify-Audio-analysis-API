{
 "cells": [
  {
   "cell_type": "code",
   "execution_count": 1,
   "metadata": {},
   "outputs": [],
   "source": [
    "from sung_spotify import SpotifyAPI"
   ]
  },
  {
   "cell_type": "code",
   "execution_count": 2,
   "metadata": {},
   "outputs": [
    {
     "data": {
      "text/plain": [
       "'BQDL0g1aNNmDh3_f8ibduQzzXJ9OZwl5S0tqsIK9Xd7yMCWv-d8KJFxqyqmcyMkSK1z15LECJKl5rkyipSM'"
      ]
     },
     "execution_count": 2,
     "metadata": {},
     "output_type": "execute_result"
    }
   ],
   "source": [
    "# to get id and secret in spotify development dashboard\n",
    "client_id = '7b53768ec42646b08540bc929483ef5e'\n",
    "client_secret = 'ca356e9b3e6f4216af17442bbbd48b0d'\n",
    "\n",
    "spotify = SpotifyAPI(client_id, client_secret)\n",
    "spotify.perform_auth()\n",
    "access_token = spotify.access_token\n",
    "access_token"
   ]
  },
  {
   "cell_type": "code",
   "execution_count": 3,
   "metadata": {},
   "outputs": [
    {
     "name": "stdout",
     "output_type": "stream",
     "text": [
      "200 in step one\n",
      "周杰倫 簡單愛 5Jtg0qcTKMHq3HjPVGRFAi\n"
     ]
    }
   ],
   "source": [
    "#search song_id\n",
    "singer = '周杰倫'\n",
    "song_name = '簡單愛'\n",
    "track_id = spotify.search_id(singer,song_name)\n",
    "print(singer,song_name,track_id)"
   ]
  },
  {
   "cell_type": "code",
   "execution_count": 4,
   "metadata": {},
   "outputs": [
    {
     "name": "stdout",
     "output_type": "stream",
     "text": [
      "200 in audio-analysis\n",
      "success save audio-analysis_周杰倫_簡單愛.json\n"
     ]
    }
   ],
   "source": [
    "#use id to search Spotify Audio analysis\n",
    "#singer & song_name only use to save file\n",
    "spotify.analysis(singer,song_name,track_id)"
   ]
  },
  {
   "cell_type": "code",
   "execution_count": 5,
   "metadata": {},
   "outputs": [
    {
     "name": "stdout",
     "output_type": "stream",
     "text": [
      "200\n",
      "save playlist as Peaceful Piano.csv\n"
     ]
    }
   ],
   "source": [
    "#get spotify play list song_name singer song_id\n",
    "#you can copy play list id on spotify app\n",
    "spotify.playlist_songid('37i9dQZF1DX4sWSpwq3LiO')"
   ]
  },
  {
   "cell_type": "code",
   "execution_count": 6,
   "metadata": {},
   "outputs": [
    {
     "name": "stdout",
     "output_type": "stream",
     "text": [
      "200 in step one\n",
      "Avril Lavigne Head Above Water 7gY3cyGcB2wnk2xDXiA0pe\n"
     ]
    }
   ],
   "source": [
    "#current_song\n",
    "# need get access_token in https://developer.spotify.com/documentation/web-api/reference/player/get-the-users-currently-playing-track/\n",
    "key = 'BQBl9AfhhgYBqHFMFaS_q4H1hA0mRi_9pJ-co4JYNYT6zmGshYaY2tLDiU5Hns6f8DFLbZ6iz5oQKKXR8wKDjEIusoPiVI5HhRlxRLRqXo0dBYM8ixS7-qSyPgxcXSjcN4McpWWpCxRZvOPXh-ANzIPLTPzPwQ'\n",
    "singer,song_name,track_id = spotify.current_song(key)\n",
    "print(singer,song_name,track_id)"
   ]
  },
  {
   "cell_type": "code",
   "execution_count": null,
   "metadata": {},
   "outputs": [],
   "source": []
  },
  {
   "cell_type": "code",
   "execution_count": null,
   "metadata": {},
   "outputs": [],
   "source": []
  }
 ],
 "metadata": {
  "kernelspec": {
   "display_name": "Python 3",
   "language": "python",
   "name": "python3"
  },
  "language_info": {
   "codemirror_mode": {
    "name": "ipython",
    "version": 3
   },
   "file_extension": ".py",
   "mimetype": "text/x-python",
   "name": "python",
   "nbconvert_exporter": "python",
   "pygments_lexer": "ipython3",
   "version": "3.6.12"
  }
 },
 "nbformat": 4,
 "nbformat_minor": 4
}
